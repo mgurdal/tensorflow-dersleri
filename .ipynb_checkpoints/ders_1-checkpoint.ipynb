{
 "cells": [
  {
   "cell_type": "markdown",
   "metadata": {},
   "source": [
    "# TensorFlow Dersleri\n",
    "    Tensorflow C++ da yazıdı bu yüzden pythondaki verileri doğrudan kütüphanede kullanamıyoruz.\n",
    "    Verileri kullanabilmek için tensorflowun bize sunduğu veri yapılarını kullanmamız gerekiyor.\n",
    "\n",
    "    - Variable() değişkenleri\n",
    "    - constant() sabit değerleri\n",
    "    - placeholder() geçici olarak değer tutan veri yapılarını temsil ediyor\n",
    "\n",
    "    Bu veri yapılarında çeşitli boyutlardaki matrisleri tutabiliriz. \n",
    "    Veri türü olarak python listelerini, numpy dizilerini veya tensorflow dizilerini kullanabiliriz.\n",
    "    Ayrıca istersek tanımladığımız veri yapılarını adlandırabiliriz. Tensorflow öntanımlı olarak 32 bit float\n",
    "    veriler ile işlemler yapıyor.\n",
    "\n",
    "    Kullanımı:\n",
    "        v = tf.Variable(matris, name=\"isim\")\n",
    "        p = tf.placeholder(matris, name=\"isim\")\n",
    "        c = tf.constant(matris, name=\"isim\")\n",
    "        \n",
    "    Şimdi bu veri yapılarını nasıl kullanacağımızı görelim."
   ]
  },
  {
   "cell_type": "code",
   "execution_count": 3,
   "metadata": {
    "collapsed": true
   },
   "outputs": [],
   "source": [
    "import numpy as np\n",
    "import tensorflow as tf"
   ]
  },
  {
   "cell_type": "markdown",
   "metadata": {},
   "source": [
    "    Öncelikle tensorflowu kullanarak işlem yapmayı öğrenelim.\n",
    "    Basit bir örnek olması için bir sayıcı uygulaması yapacağız.\n",
    "    Bu örneği tensorflowun yapısının daha iyi anlaşılması için 2 bölüme ayıralım.\n",
    "    Modelleme ve Çalıştırma."
   ]
  },
  {
   "cell_type": "markdown",
   "metadata": {},
   "source": [
    "## Modelleme"
   ]
  },
  {
   "cell_type": "code",
   "execution_count": 22,
   "metadata": {},
   "outputs": [
    {
     "name": "stdout",
     "output_type": "stream",
     "text": [
      "sayici_1:0\n"
     ]
    }
   ],
   "source": [
    "\n",
    "durum = tf.Variable(0, name='sayici') # Başlangıç değeri ve ismi ile birlikte bir değişken tanımladık.\n",
    "print(durum.name)"
   ]
  },
  {
   "cell_type": "code",
   "execution_count": 29,
   "metadata": {},
   "outputs": [],
   "source": [
    "# 1 Eklemek için de 1 değerine sahip bir sabit oluşturduk.\n",
    "bir = tf.constant(1)"
   ]
  },
  {
   "cell_type": "code",
   "execution_count": 30,
   "metadata": {},
   "outputs": [],
   "source": [
    "# Ardından yapacağımız işlemi tanımladık.\n",
    "toplama_islemi = tf.add(durum, bir)"
   ]
  },
  {
   "cell_type": "code",
   "execution_count": 31,
   "metadata": {
    "collapsed": true
   },
   "outputs": [],
   "source": [
    "# Son olarak da toplama işleminin sonucunu önceki duruma atadık.\n",
    "guncelle = tf.assign(durum, toplama_islemi)"
   ]
  },
  {
   "cell_type": "code",
   "execution_count": 35,
   "metadata": {
    "collapsed": true
   },
   "outputs": [],
   "source": [
    "# Tanımladığımız değişkenleri 'initialize' ediyoruz yani başlangıç değeriyle birlikte oluşturuyoruz.\n",
    "# Bu adım algoritmanın bir parçası olmamasına rağmen oldukça önemli. Genelde unutuluyor.\n",
    "init = tf.global_variables_initializer()"
   ]
  },
  {
   "cell_type": "markdown",
   "metadata": {},
   "source": [
    "## Çalıştırma"
   ]
  },
  {
   "cell_type": "markdown",
   "metadata": {},
   "source": [
    "    Bu islemleri aktif etmek icin tensorflow oturumu (Session) kullanmamiz\n",
    "    gerekiyor. Session'u bir isaretci olarak dusunulebilir. Tanimladigimiz yapay sinir agi modelinin istedigimiz\n",
    "    adimini Session ile calistirip degerini alabiliriz."
   ]
  },
  {
   "cell_type": "code",
   "execution_count": 37,
   "metadata": {},
   "outputs": [
    {
     "name": "stdout",
     "output_type": "stream",
     "text": [
      "1\n",
      "2\n",
      "3\n",
      "4\n",
      "5\n"
     ]
    }
   ],
   "source": [
    "# Session başlayıp sonlandırılan bir şey olduğu için with ifadesi ile oturumumuzu oluşturduk\n",
    "with tf.Session() as sess:\n",
    "        sess.run(init) # ardından değişkenlerimizi 'set' ettik\n",
    "        \n",
    "        # Şimdide tasarladığımı modeli çalıştıracağız\n",
    "        for _ in range(5):\n",
    "            sess.run(guncelle) # guncelleme adımını çalıştır.\n",
    "            print(sess.run(durum)) # sonucu görmek için durum değerini çalıştır"
   ]
  },
  {
   "cell_type": "markdown",
   "metadata": {},
   "source": [
    "## Peki neden bu kadar zahmete girdik?\n",
    "Sadece şunu yapamaz mıydık?\n",
    "```python\n",
    "    durum = 0\n",
    "    for _ in range(5):\n",
    "        durum += 1\n",
    "        print(durum)\n",
    "```\n",
    "    \n",
    "    Neden bir sayıyı diğerine eklemek için 6 7 satır kod yazdık?\n",
    "    Yaptığımız işlemler küçük uygulamalar için çok aptalca gözükse de büyük uygulamalar için oldukça gerekli.\n",
    "    2 sayı toplamda bellekte 64 bit kadar yer kaplıyor olabilir ama gerçek hayattaki uygulamalar gigabytelarca\n",
    "    veriyi okuyup bu verileri yüzlerce katmanda binlerce kez işleyerek çalışabiliyor. Tüm bu işlemler haliyle yüksek \n",
    "    miktarda bellek hacmi ve işlem gücü gerektiriyor. İşte bu yüzden Tensorflow 'lazy' calisiyor yani tanimladigimiz\n",
    "    degiskenler, fonsiyonlar, optimizasyon algoritmalari tanimladigimiz anda calistirilmiyor. Açtığımız oturumda \n",
    "    o an hangi adımı çalıştırmak istiyorsak o çalışıyor."
   ]
  },
  {
   "cell_type": "markdown",
   "metadata": {},
   "source": [
    "     Şimdi de 1x2 ve 2x1 boyutunda 2 matrisi nasıl çarpacağımızı görelim."
   ]
  },
  {
   "cell_type": "code",
   "execution_count": 42,
   "metadata": {
    "collapsed": true
   },
   "outputs": [],
   "source": [
    "matris_1 = tf.constant([\n",
    "                [3, 3]\n",
    "            ])\n",
    "\n",
    "matris_2 = tf.constant([\n",
    "                [3], \n",
    "                [3]\n",
    "            ])"
   ]
  },
  {
   "cell_type": "code",
   "execution_count": 40,
   "metadata": {},
   "outputs": [],
   "source": [
    "matrisleri_carp = tf.matmul(matris_1, matris_2)"
   ]
  },
  {
   "cell_type": "code",
   "execution_count": 44,
   "metadata": {},
   "outputs": [
    {
     "name": "stdout",
     "output_type": "stream",
     "text": [
      "[[18]]\n"
     ]
    }
   ],
   "source": [
    "sess = tf.Session()\n",
    "sonuc = sess.run(matrisleri_carp)\n",
    "print(sonuc)"
   ]
  },
  {
   "cell_type": "markdown",
   "metadata": {},
   "source": [
    "    Değişkenleri ve sabitleri bu şekilde tanımlayıp ardından işlem yapmak bazen sorun oluşturabiliyor.\n",
    "    Elimizdeki verinin boyutu çok büyük ise verileri parça parça okuyarak işlemek çok daha mantıklı olacaktır\n",
    "    veya verilerin ne zaman geleceğini bilmiyorsak o veri için bir değişken tanımlamak pek mümkün değil.\n",
    "    Bu gibi durumlarda yardımımıza 'placeholder' yani yer tutucu yetişiyor. Placeholderın tanımlandığı anda bir\n",
    "    değer tutması gerekmiyor biz oturum içinde çalışırken placeholderleri sürekli yeni verilerle besleyebiliyoruz.\n",
    "    \n",
    "    Şimdi nasıl çalıştığına bir bakalım."
   ]
  },
  {
   "cell_type": "code",
   "execution_count": 54,
   "metadata": {},
   "outputs": [
    {
     "name": "stdout",
     "output_type": "stream",
     "text": [
      "[-28.]\n"
     ]
    }
   ],
   "source": [
    "# sadece veri tipini belirleyerek tanımlayabiliriz\n",
    "giris_1 = tf.placeholder(tf.float32)\n",
    "\n",
    "# istersek verinin boyutunu da ekleyebiliriz\n",
    "giris_2 = tf.placeholder(tf.float32, shape=[1])\n",
    "\n",
    "carp = tf.multiply(giris_1, giris_2)\n",
    "\n",
    "sess = tf.Session()\n",
    "sonuc = sess.run(carp, feed_dict={giris_1:[4.], giris_2:[-7.]})\n",
    "print(sonuc)"
   ]
  },
  {
   "cell_type": "markdown",
   "metadata": {},
   "source": [
    "### Gerçekçi olması açısından placeholderleri kullanarak bir örnek daha yapalım"
   ]
  },
  {
   "cell_type": "code",
   "execution_count": 69,
   "metadata": {},
   "outputs": [
    {
     "name": "stdout",
     "output_type": "stream",
     "text": [
      "[ 72.]\n",
      "[ 36.]\n",
      "[ 48.]\n",
      "[ 24.]\n",
      "[ 5.]\n",
      "[ 8.]\n"
     ]
    }
   ],
   "source": [
    "import time\n",
    "\n",
    "dosya = [ # sahte dosya :)\n",
    "    [2, 4],\n",
    "    [5, 1],\n",
    "    [4, 6],\n",
    "    [4, 12],\n",
    "    [12, 3],\n",
    "    [9, 8],\n",
    "]\n",
    "\n",
    "def buyukVeriOku(dosya, veri_sayisi=2):\n",
    "    \"\"\" pop() kullandığımız için verileri aşağıdan yukarıya doğru okuyacak \"\"\"\n",
    "    while dosya:\n",
    "        yield [dosya.pop() for _ in range(veri_sayisi)]\n",
    "        time.sleep(1)\n",
    "        \n",
    "giris_1 = tf.placeholder(tf.float32)\n",
    "giris_2 = tf.placeholder(tf.float32, shape=[1])\n",
    "\n",
    "carp = tf.multiply(giris_1, giris_2)\n",
    "\n",
    "with tf.Session() as sess:\n",
    "    for dataset in buyukVeriOku(dosya, veri_sayisi=2): # dosyadan parca parca oku\n",
    "        for data in dataset:\n",
    "            veri_1, veri_2 = data # değerleri al\n",
    "            fd = {giris_1:[veri_1,], giris_2:[veri_2,]} # girislerle eşleştir\n",
    "            sonuc = sess.run(carp, feed_dict=fd) # modeli besle\n",
    "            print(sonuc)"
   ]
  },
  {
   "cell_type": "code",
   "execution_count": null,
   "metadata": {
    "collapsed": true
   },
   "outputs": [],
   "source": []
  }
 ],
 "metadata": {
  "kernelspec": {
   "display_name": "Python 3",
   "language": "python",
   "name": "python3"
  },
  "language_info": {
   "codemirror_mode": {
    "name": "ipython",
    "version": 3
   },
   "file_extension": ".py",
   "mimetype": "text/x-python",
   "name": "python",
   "nbconvert_exporter": "python",
   "pygments_lexer": "ipython3",
   "version": "3.5.2"
  }
 },
 "nbformat": 4,
 "nbformat_minor": 2
}
